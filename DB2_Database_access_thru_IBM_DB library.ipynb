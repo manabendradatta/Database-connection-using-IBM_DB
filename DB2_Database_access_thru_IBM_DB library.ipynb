{
 "cells": [
  {
   "cell_type": "code",
   "execution_count": null,
   "metadata": {},
   "outputs": [],
   "source": [
    "import pandas as pd\n",
    "import ibm_db"
   ]
  },
  {
   "cell_type": "markdown",
   "metadata": {},
   "source": [
    "Connect DB2 sub-system in z/OS Mainframe thru DB2 Connect gateway server.\n",
    "Execute dynamic SQL, fetch rows one at at time and store in a DataFrame."
   ]
  },
  {
   "cell_type": "code",
   "execution_count": null,
   "metadata": {},
   "outputs": [],
   "source": [
    "var_database = 'database name'         # database server\n",
    "var_hostname = 'Database host URL'     # DB2 Connect gateway\n",
    "var_port = 'Port number'\n",
    "var_protocol = 'TCPIP'\n",
    "user_id = ''                           # Mainframe TSO ID\n",
    "keys =  ''                             # password\n",
    "\n",
    "\n",
    "var = \"DATABASE = \" + var_database + '; ' + \"HOSTNAME = \" + var_hostname + '; ' + \"PORT = \" + var_port + \"; \" + \"PROTOCOL = TCPIP; UID = \" + user_id + '; ' + \"PWD = \" + keys + ';' \n",
    "conn = ibm_db.connect(var, \"\", \"\")\n",
    "\n",
    "df01 = pd.DataFrame(columns=['DBNAME','TSNAME'])\n",
    "var_DBNAME = []\n",
    "var_TSNAME = []\n",
    "\n",
    "sql = \"SELECT DBNAME, TSNAME FROM SYSIBM.SYSTABLES where CREATOR = 'schema name' and type = 'T' with ur\"\n",
    "stmt = ibm_db.exec_immediate(conn, sql)\n",
    "dictionary = ibm_db.fetch_both(stmt)\n",
    "while dictionary != False:\n",
    "    var_DBNAME.append(dictionary[0])\n",
    "    var_TSNAME.append(dictionary[1])\n",
    "    dictionary = ibm_db.fetch_both(stmt)\n",
    "\n",
    "df01['DBNAME'] = var_DBNAME\n",
    "df01['TSNAME'] = var_TSNAME    \n",
    "\n",
    "df01.head()"
   ]
  },
  {
   "cell_type": "code",
   "execution_count": null,
   "metadata": {},
   "outputs": [],
   "source": []
  }
 ],
 "metadata": {
  "kernelspec": {
   "display_name": "Python 3",
   "language": "python",
   "name": "python3"
  },
  "language_info": {
   "codemirror_mode": {
    "name": "ipython",
    "version": 3
   },
   "file_extension": ".py",
   "mimetype": "text/x-python",
   "name": "python",
   "nbconvert_exporter": "python",
   "pygments_lexer": "ipython3",
   "version": "3.7.4"
  }
 },
 "nbformat": 4,
 "nbformat_minor": 2
}
